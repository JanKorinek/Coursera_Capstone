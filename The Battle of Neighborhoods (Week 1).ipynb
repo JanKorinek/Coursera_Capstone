{
    "cells": [
        {
            "cell_type": "markdown",
            "metadata": {},
            "source": "# Capstone Project - The Battle of Neighborhoods (Week 1)\n### Applied Data Science Capstone by IBM/Coursera"
        },
        {
            "cell_type": "markdown",
            "metadata": {},
            "source": "## Table of contents\n* [Introduction](#introduction)\n* [Data](#data)\n* [Methodology - tbd in week2](#methodology)\n* [Analysis - tbd in week2](#analysis)\n* [Results and Discussion - tbd in week2](#results)\n* [Conclusion - tbd in week2](#conclusion)"
        },
        {
            "cell_type": "markdown",
            "metadata": {},
            "source": "\n\n## Introduction <a name=\"introduction\"></a>"
        },
        {
            "cell_type": "markdown",
            "metadata": {},
            "source": "In this final capstone project I will try to find several locations in three different cities based on specified criteria.\n\nThis analysis is suitable for the situation, when person needs to move from city A to city B and parallelly wants to keep its living habits. Main goal is then to find districts, suburbs or boroughs in each city with mutually similar characteristics. Some of the cities presented in this analysis are intentionally chosen from different geographical environments and hasn't the same size of population. Intention is to find out if those aspects has significant impact on amount of resulting locations. Analyzed cities are following:\n * Prague - capital of Czech Republic with population of 1,3 mil. (2019) located in central Europe and founded in 8th century AD.\n * Melbourne - capital of Australia with population of 4,9 mil. (2018) located in Victoria and founded in 19th century AD.\n * Sydney - city of Australia with population of 4,6 mil. (2011) located in New South Wales and founded in 18th century AD.\n\nConditions which all places has to meet are defined based on individual preference. Idea is to maintain healthy lifestyle, minimize time necessary for routine activities like traveling to job or shopping and dedicate it more to fitness activities in gyms or parks or spend more time on cultural events. \n\nBased on that, targeted location should be covered by dense net of public transport. It should include shopping malls not far located and also parks and gyms approachable within several minutes of walking.\n\nWith help of Foursquare platform geolocation data and data science approaches, we will get as a result list of appropriate locations for each city with mutual comparison. "
        },
        {
            "cell_type": "markdown",
            "metadata": {},
            "source": "## Data <a name=\"data\"></a>"
        },
        {
            "cell_type": "markdown",
            "metadata": {},
            "source": "Inputs used in this type of study falls into three categories. \n\nAs a first step, its necessary to obtain list of districts or neighborhoods of particular city. Goal is to get at least 100 locations for analysis across the city as input. In case of Prague, list of Prague districts is sufficient. List of inner suburbs is used in case of Melbourne and Sydney.\n\nNext type of data are coordinates assigned to each address from the lists of suburbs or districts by GeoPy. This is used as input for function localazing venues at Foursquare.  Last category is then Foursquare location data filtered according definition of the problem like public transport stations, shopping plazas, pharmacies and parks. Venues located in each district or suburb are then used for further processing and evaluation."
        },
        {
            "cell_type": "code",
            "execution_count": null,
            "metadata": {},
            "outputs": [],
            "source": ""
        }
    ],
    "metadata": {
        "kernelspec": {
            "display_name": "Python 3.6",
            "language": "python",
            "name": "python3"
        },
        "language_info": {
            "codemirror_mode": {
                "name": "ipython",
                "version": 3
            },
            "file_extension": ".py",
            "mimetype": "text/x-python",
            "name": "python",
            "nbconvert_exporter": "python",
            "pygments_lexer": "ipython3",
            "version": "3.6.8"
        }
    },
    "nbformat": 4,
    "nbformat_minor": 4
}